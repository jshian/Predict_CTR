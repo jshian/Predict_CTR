{
 "cells": [
  {
   "cell_type": "code",
   "execution_count": 3,
   "metadata": {},
   "outputs": [
    {
     "output_type": "execute_result",
     "data": {
      "text/plain": "   title_proximity_tfidf  description_proximity_tfidf  main_query_tfidf  \\\n0               0.000000                     0.000000          0.000000   \n1              11.874042                     0.043637          2.527080   \n2              11.874042                     0.043637          2.527080   \n3               0.000000                     0.000000          3.695809   \n4                    NaN                          NaN          7.868900   \n\n   query_jl_score  query_title_score  city_match  job_age_days  apply  \\\n0        0.004824           0.006628         0.0           5.0      0   \n1        0.011935           0.011208         0.0           5.0      0   \n2        0.011935           0.011208         0.0           5.0      1   \n3        0.013046           0.033340         0.0           5.0      0   \n4        0.008065           0.008772         0.0           7.0      0   \n\n              class_id  \n0 -7613806991329176388  \n1 -1361819269400927213  \n2 -1361819269400927213  \n3 -3623880078591607667  \n4 -7054510112423797411  ",
      "text/html": "<div>\n<style scoped>\n    .dataframe tbody tr th:only-of-type {\n        vertical-align: middle;\n    }\n\n    .dataframe tbody tr th {\n        vertical-align: top;\n    }\n\n    .dataframe thead th {\n        text-align: right;\n    }\n</style>\n<table border=\"1\" class=\"dataframe\">\n  <thead>\n    <tr style=\"text-align: right;\">\n      <th></th>\n      <th>title_proximity_tfidf</th>\n      <th>description_proximity_tfidf</th>\n      <th>main_query_tfidf</th>\n      <th>query_jl_score</th>\n      <th>query_title_score</th>\n      <th>city_match</th>\n      <th>job_age_days</th>\n      <th>apply</th>\n      <th>class_id</th>\n    </tr>\n  </thead>\n  <tbody>\n    <tr>\n      <th>0</th>\n      <td>0.000000</td>\n      <td>0.000000</td>\n      <td>0.000000</td>\n      <td>0.004824</td>\n      <td>0.006628</td>\n      <td>0.0</td>\n      <td>5.0</td>\n      <td>0</td>\n      <td>-7613806991329176388</td>\n    </tr>\n    <tr>\n      <th>1</th>\n      <td>11.874042</td>\n      <td>0.043637</td>\n      <td>2.527080</td>\n      <td>0.011935</td>\n      <td>0.011208</td>\n      <td>0.0</td>\n      <td>5.0</td>\n      <td>0</td>\n      <td>-1361819269400927213</td>\n    </tr>\n    <tr>\n      <th>2</th>\n      <td>11.874042</td>\n      <td>0.043637</td>\n      <td>2.527080</td>\n      <td>0.011935</td>\n      <td>0.011208</td>\n      <td>0.0</td>\n      <td>5.0</td>\n      <td>1</td>\n      <td>-1361819269400927213</td>\n    </tr>\n    <tr>\n      <th>3</th>\n      <td>0.000000</td>\n      <td>0.000000</td>\n      <td>3.695809</td>\n      <td>0.013046</td>\n      <td>0.033340</td>\n      <td>0.0</td>\n      <td>5.0</td>\n      <td>0</td>\n      <td>-3623880078591607667</td>\n    </tr>\n    <tr>\n      <th>4</th>\n      <td>NaN</td>\n      <td>NaN</td>\n      <td>7.868900</td>\n      <td>0.008065</td>\n      <td>0.008772</td>\n      <td>0.0</td>\n      <td>7.0</td>\n      <td>0</td>\n      <td>-7054510112423797411</td>\n    </tr>\n  </tbody>\n</table>\n</div>"
     },
     "metadata": {},
     "execution_count": 3
    }
   ],
   "source": [
    "import time\n",
    "import pandas as pd\n",
    "from sklearn.neural_network import MLPClassifier\n",
    "from sklearn.model_selection import train_test_split\n",
    "from sklearn.metrics import accuracy_score, f1_score\n",
    "from sklearn.metrics import classification_report, plot_confusion_matrix\n",
    "df = pd.read_csv('./dataset/Apply_Rate_2019.csv').drop('search_date_pacific', axis=1)\n",
    "df.head()"
   ]
  },
  {
   "cell_type": "code",
   "execution_count": 4,
   "metadata": {},
   "outputs": [
    {
     "output_type": "execute_result",
     "data": {
      "text/plain": "   title_proximity_tfidf  description_proximity_tfidf  main_query_tfidf  \\\n0               0.000000                     0.000000          0.000000   \n1              11.874042                     0.043637          2.527080   \n2              11.874042                     0.043637          2.527080   \n3               0.000000                     0.000000          3.695809   \n4               5.958872                     0.097365          7.868900   \n\n   query_jl_score  query_title_score  city_match  job_age_days  apply  \\\n0        0.004824           0.006628         0.0           5.0      0   \n1        0.011935           0.011208         0.0           5.0      0   \n2        0.011935           0.011208         0.0           5.0      1   \n3        0.013046           0.033340         0.0           5.0      0   \n4        0.008065           0.008772         0.0           7.0      0   \n\n              class_id  \n0 -7613806991329176388  \n1 -1361819269400927213  \n2 -1361819269400927213  \n3 -3623880078591607667  \n4 -7054510112423797411  ",
      "text/html": "<div>\n<style scoped>\n    .dataframe tbody tr th:only-of-type {\n        vertical-align: middle;\n    }\n\n    .dataframe tbody tr th {\n        vertical-align: top;\n    }\n\n    .dataframe thead th {\n        text-align: right;\n    }\n</style>\n<table border=\"1\" class=\"dataframe\">\n  <thead>\n    <tr style=\"text-align: right;\">\n      <th></th>\n      <th>title_proximity_tfidf</th>\n      <th>description_proximity_tfidf</th>\n      <th>main_query_tfidf</th>\n      <th>query_jl_score</th>\n      <th>query_title_score</th>\n      <th>city_match</th>\n      <th>job_age_days</th>\n      <th>apply</th>\n      <th>class_id</th>\n    </tr>\n  </thead>\n  <tbody>\n    <tr>\n      <th>0</th>\n      <td>0.000000</td>\n      <td>0.000000</td>\n      <td>0.000000</td>\n      <td>0.004824</td>\n      <td>0.006628</td>\n      <td>0.0</td>\n      <td>5.0</td>\n      <td>0</td>\n      <td>-7613806991329176388</td>\n    </tr>\n    <tr>\n      <th>1</th>\n      <td>11.874042</td>\n      <td>0.043637</td>\n      <td>2.527080</td>\n      <td>0.011935</td>\n      <td>0.011208</td>\n      <td>0.0</td>\n      <td>5.0</td>\n      <td>0</td>\n      <td>-1361819269400927213</td>\n    </tr>\n    <tr>\n      <th>2</th>\n      <td>11.874042</td>\n      <td>0.043637</td>\n      <td>2.527080</td>\n      <td>0.011935</td>\n      <td>0.011208</td>\n      <td>0.0</td>\n      <td>5.0</td>\n      <td>1</td>\n      <td>-1361819269400927213</td>\n    </tr>\n    <tr>\n      <th>3</th>\n      <td>0.000000</td>\n      <td>0.000000</td>\n      <td>3.695809</td>\n      <td>0.013046</td>\n      <td>0.033340</td>\n      <td>0.0</td>\n      <td>5.0</td>\n      <td>0</td>\n      <td>-3623880078591607667</td>\n    </tr>\n    <tr>\n      <th>4</th>\n      <td>5.958872</td>\n      <td>0.097365</td>\n      <td>7.868900</td>\n      <td>0.008065</td>\n      <td>0.008772</td>\n      <td>0.0</td>\n      <td>7.0</td>\n      <td>0</td>\n      <td>-7054510112423797411</td>\n    </tr>\n  </tbody>\n</table>\n</div>"
     },
     "metadata": {},
     "execution_count": 4
    }
   ],
   "source": [
    "df.drop_duplicates(inplace=True)  # (len(df)=1112618, len(df[df['apply']==1])=99595), imbalanced\n",
    "df.fillna(df.mean(), inplace=True)\n",
    "df.head()"
   ]
  },
  {
   "cell_type": "code",
   "execution_count": 5,
   "metadata": {},
   "outputs": [
    {
     "output_type": "execute_result",
     "data": {
      "text/plain": "(890094, 79578)"
     },
     "metadata": {},
     "execution_count": 5
    }
   ],
   "source": [
    "train, test = train_test_split(df, test_size=0.2, random_state=4211)\n",
    "train_x = train.iloc[:,0:7]\n",
    "train_y = train.iloc[:,7]\n",
    "\n",
    "test_x = test.iloc[:,0:7]\n",
    "test_y = test.iloc[:,7]\n",
    "\n",
    "len(train_y), len(train_y[train_y==1])  # imbalanced"
   ]
  },
  {
   "cell_type": "code",
   "execution_count": 8,
   "metadata": {},
   "outputs": [
    {
     "name": "stderr",
     "output_type": "stream",
     "text": [
      "Using TensorFlow backend.\n"
     ]
    },
    {
     "data": {
      "text/plain": [
       "(159156, 7)"
      ]
     },
     "execution_count": 8,
     "metadata": {},
     "output_type": "execute_result"
    }
   ],
   "source": [
    "# pre-processing\n",
    "from imblearn.under_sampling import RandomUnderSampler\n",
    "resampled_train_x, resampled_train_y = RandomUnderSampler(random_state=0).fit_resample(train_x, train_y)\n",
    "resampled_train_x.shape"
   ]
  },
  {
   "cell_type": "code",
   "execution_count": 9,
   "metadata": {},
   "outputs": [],
   "source": [
    "mlp = MLPClassifier(hidden_layer_sizes=(120, ), max_iter=500, learning_rate='adaptive', random_state=4211)"
   ]
  },
  {
   "cell_type": "code",
   "execution_count": 10,
   "metadata": {},
   "outputs": [
    {
     "name": "stdout",
     "output_type": "stream",
     "text": [
      "48.768094539642334\n"
     ]
    }
   ],
   "source": [
    "start = time.time()\n",
    "mlp.fit(resampled_train_x, resampled_train_y)\n",
    "print(time.time()-start)"
   ]
  },
  {
   "cell_type": "code",
   "execution_count": 11,
   "metadata": {},
   "outputs": [
    {
     "name": "stdout",
     "output_type": "stream",
     "text": [
      "0.6324036957811292 0.18794611390733737\n"
     ]
    },
    {
     "data": {
      "image/png": "[encoded data removed]",
      "text/plain": [
       "<Figure size 432x288 with 2 Axes>"
      ]
     },
     "metadata": {
      "needs_background": "light"
     },
     "output_type": "display_data"
    }
   ],
   "source": [
    "def printConfusion(clf, test_x, test_y):\n",
    "    pred_y = clf.predict(test_x)\n",
    "\n",
    "    acc = accuracy_score(test_y, pred_y)\n",
    "    f1 = f1_score(test_y, pred_y)\n",
    "    print(acc, f1)\n",
    "\n",
    "    disp = plot_confusion_matrix(clf, test_x, test_y)\n",
    "    disp.figure_.suptitle(\"Confusion Matrix\")\n",
    "    \n",
    "printConfusion(mlp, test_x, test_y)"
   ]
  },
  {
   "cell_type": "code",
   "execution_count": null,
   "metadata": {},
   "outputs": [],
   "source": []
  }
 ],
 "metadata": {
  "kernelspec": {
   "display_name": "Python 3",
   "language": "python",
   "name": "python3"
  },
  "language_info": {
   "codemirror_mode": {
    "name": "ipython",
    "version": 3
   },
   "file_extension": ".py",
   "mimetype": "text/x-python",
   "name": "python",
   "nbconvert_exporter": "python",
   "pygments_lexer": "ipython3",
   "version": "3.7.6-final"
  }
 },
 "nbformat": 4,
 "nbformat_minor": 4
}
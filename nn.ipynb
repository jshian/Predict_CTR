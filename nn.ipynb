{
 "cells": [
  {
   "cell_type": "code",
   "execution_count": 81,
   "metadata": {},
   "outputs": [
    {
     "data": {
      "text/plain": [
       "title_proximity_tfidf          193541\n",
       "description_proximity_tfidf    193541\n",
       "main_query_tfidf                    0\n",
       "query_jl_score                      0\n",
       "query_title_score                   0\n",
       "city_match                     241083\n",
       "job_age_days                        0\n",
       "apply                               0\n",
       "search_date_pacific                 0\n",
       "dtype: int64"
      ]
     },
     "execution_count": 81,
     "metadata": {},
     "output_type": "execute_result"
    }
   ],
   "source": [
    "import time\n",
    "import numpy as np\n",
    "import pandas as pd\n",
    "from sklearn.neural_network import MLPClassifier\n",
    "from sklearn.model_selection import train_test_split\n",
    "from sklearn.metrics import accuracy_score, f1_score\n",
    "from sklearn.metrics import classification_report, plot_confusion_matrix\n",
    "import plotly.graph_objects as go\n",
    "df = pd.read_csv('./dataset/Apply_Rate_2019.csv').drop(['class_id'], axis=1)\n",
    "df.drop_duplicates(inplace=True)\n",
    "df.isnull().sum()"
   ]
  },
  {
   "cell_type": "code",
   "execution_count": 82,
   "metadata": {},
   "outputs": [
    {
     "data": {
      "application/vnd.plotly.v1+json": {
       "config": {
        "plotlyServerURL": "https://plot.ly"
       },
       "data": [
        {
         "type": "bar",
         "x": [
          0,
          1
         ],
         "y": [
          988093,
          98313
         ]
        }
       ],
       "layout": {
        "template": {
         "data": {
          "bar": [
           {
            "error_x": {
             "color": "#2a3f5f"
            },
            "error_y": {
             "color": "#2a3f5f"
            },
            "marker": {
             "line": {
              "color": "#E5ECF6",
              "width": 0.5
             }
            },
            "type": "bar"
           }
          ],
          "barpolar": [
           {
            "marker": {
             "line": {
              "color": "#E5ECF6",
              "width": 0.5
             }
            },
            "type": "barpolar"
           }
          ],
          "carpet": [
           {
            "aaxis": {
             "endlinecolor": "#2a3f5f",
             "gridcolor": "white",
             "linecolor": "white",
             "minorgridcolor": "white",
             "startlinecolor": "#2a3f5f"
            },
            "baxis": {
             "endlinecolor": "#2a3f5f",
             "gridcolor": "white",
             "linecolor": "white",
             "minorgridcolor": "white",
             "startlinecolor": "#2a3f5f"
            },
            "type": "carpet"
           }
          ],
          "choropleth": [
           {
            "colorbar": {
             "outlinewidth": 0,
             "ticks": ""
            },
            "type": "choropleth"
           }
          ],
          "contour": [
           {
            "colorbar": {
             "outlinewidth": 0,
             "ticks": ""
            },
            "colorscale": [
             [
              0,
              "#0d0887"
             ],
             [
              0.1111111111111111,
              "#46039f"
             ],
             [
              0.2222222222222222,
              "#7201a8"
             ],
             [
              0.3333333333333333,
              "#9c179e"
             ],
             [
              0.4444444444444444,
              "#bd3786"
             ],
             [
              0.5555555555555556,
              "#d8576b"
             ],
             [
              0.6666666666666666,
              "#ed7953"
             ],
             [
              0.7777777777777778,
              "#fb9f3a"
             ],
             [
              0.8888888888888888,
              "#fdca26"
             ],
             [
              1,
              "#f0f921"
             ]
            ],
            "type": "contour"
           }
          ],
          "contourcarpet": [
           {
            "colorbar": {
             "outlinewidth": 0,
             "ticks": ""
            },
            "type": "contourcarpet"
           }
          ],
          "heatmap": [
           {
            "colorbar": {
             "outlinewidth": 0,
             "ticks": ""
            },
            "colorscale": [
             [
              0,
              "#0d0887"
             ],
             [
              0.1111111111111111,
              "#46039f"
             ],
             [
              0.2222222222222222,
              "#7201a8"
             ],
             [
              0.3333333333333333,
              "#9c179e"
             ],
             [
              0.4444444444444444,
              "#bd3786"
             ],
             [
              0.5555555555555556,
              "#d8576b"
             ],
             [
              0.6666666666666666,
              "#ed7953"
             ],
             [
              0.7777777777777778,
              "#fb9f3a"
             ],
             [
              0.8888888888888888,
              "#fdca26"
             ],
             [
              1,
              "#f0f921"
             ]
            ],
            "type": "heatmap"
           }
          ],
          "heatmapgl": [
           {
            "colorbar": {
             "outlinewidth": 0,
             "ticks": ""
            },
            "colorscale": [
             [
              0,
              "#0d0887"
             ],
             [
              0.1111111111111111,
              "#46039f"
             ],
             [
              0.2222222222222222,
              "#7201a8"
             ],
             [
              0.3333333333333333,
              "#9c179e"
             ],
             [
              0.4444444444444444,
              "#bd3786"
             ],
             [
              0.5555555555555556,
              "#d8576b"
             ],
             [
              0.6666666666666666,
              "#ed7953"
             ],
             [
              0.7777777777777778,
              "#fb9f3a"
             ],
             [
              0.8888888888888888,
              "#fdca26"
             ],
             [
              1,
              "#f0f921"
             ]
            ],
            "type": "heatmapgl"
           }
          ],
          "histogram": [
           {
            "marker": {
             "colorbar": {
              "outlinewidth": 0,
              "ticks": ""
             }
            },
            "type": "histogram"
           }
          ],
          "histogram2d": [
           {
            "colorbar": {
             "outlinewidth": 0,
             "ticks": ""
            },
            "colorscale": [
             [
              0,
              "#0d0887"
             ],
             [
              0.1111111111111111,
              "#46039f"
             ],
             [
              0.2222222222222222,
              "#7201a8"
             ],
             [
              0.3333333333333333,
              "#9c179e"
             ],
             [
              0.4444444444444444,
              "#bd3786"
             ],
             [
              0.5555555555555556,
              "#d8576b"
             ],
             [
              0.6666666666666666,
              "#ed7953"
             ],
             [
              0.7777777777777778,
              "#fb9f3a"
             ],
             [
              0.8888888888888888,
              "#fdca26"
             ],
             [
              1,
              "#f0f921"
             ]
            ],
            "type": "histogram2d"
           }
          ],
          "histogram2dcontour": [
           {
            "colorbar": {
             "outlinewidth": 0,
             "ticks": ""
            },
            "colorscale": [
             [
              0,
              "#0d0887"
             ],
             [
              0.1111111111111111,
              "#46039f"
             ],
             [
              0.2222222222222222,
              "#7201a8"
             ],
             [
              0.3333333333333333,
              "#9c179e"
             ],
             [
              0.4444444444444444,
              "#bd3786"
             ],
             [
              0.5555555555555556,
              "#d8576b"
             ],
             [
              0.6666666666666666,
              "#ed7953"
             ],
             [
              0.7777777777777778,
              "#fb9f3a"
             ],
             [
              0.8888888888888888,
              "#fdca26"
             ],
             [
              1,
              "#f0f921"
             ]
            ],
            "type": "histogram2dcontour"
           }
          ],
          "mesh3d": [
           {
            "colorbar": {
             "outlinewidth": 0,
             "ticks": ""
            },
            "type": "mesh3d"
           }
          ],
          "parcoords": [
           {
            "line": {
             "colorbar": {
              "outlinewidth": 0,
              "ticks": ""
             }
            },
            "type": "parcoords"
           }
          ],
          "pie": [
           {
            "automargin": true,
            "type": "pie"
           }
          ],
          "scatter": [
           {
            "marker": {
             "colorbar": {
              "outlinewidth": 0,
              "ticks": ""
             }
            },
            "type": "scatter"
           }
          ],
          "scatter3d": [
           {
            "line": {
             "colorbar": {
              "outlinewidth": 0,
              "ticks": ""
             }
            },
            "marker": {
             "colorbar": {
              "outlinewidth": 0,
              "ticks": ""
             }
            },
            "type": "scatter3d"
           }
          ],
          "scattercarpet": [
           {
            "marker": {
             "colorbar": {
              "outlinewidth": 0,
              "ticks": ""
             }
            },
            "type": "scattercarpet"
           }
          ],
          "scattergeo": [
           {
            "marker": {
             "colorbar": {
              "outlinewidth": 0,
              "ticks": ""
             }
            },
            "type": "scattergeo"
           }
          ],
          "scattergl": [
           {
            "marker": {
             "colorbar": {
              "outlinewidth": 0,
              "ticks": ""
             }
            },
            "type": "scattergl"
           }
          ],
          "scattermapbox": [
           {
            "marker": {
             "colorbar": {
              "outlinewidth": 0,
              "ticks": ""
             }
            },
            "type": "scattermapbox"
           }
          ],
          "scatterpolar": [
           {
            "marker": {
             "colorbar": {
              "outlinewidth": 0,
              "ticks": ""
             }
            },
            "type": "scatterpolar"
           }
          ],
          "scatterpolargl": [
           {
            "marker": {
             "colorbar": {
              "outlinewidth": 0,
              "ticks": ""
             }
            },
            "type": "scatterpolargl"
           }
          ],
          "scatterternary": [
           {
            "marker": {
             "colorbar": {
              "outlinewidth": 0,
              "ticks": ""
             }
            },
            "type": "scatterternary"
           }
          ],
          "surface": [
           {
            "colorbar": {
             "outlinewidth": 0,
             "ticks": ""
            },
            "colorscale": [
             [
              0,
              "#0d0887"
             ],
             [
              0.1111111111111111,
              "#46039f"
             ],
             [
              0.2222222222222222,
              "#7201a8"
             ],
             [
              0.3333333333333333,
              "#9c179e"
             ],
             [
              0.4444444444444444,
              "#bd3786"
             ],
             [
              0.5555555555555556,
              "#d8576b"
             ],
             [
              0.6666666666666666,
              "#ed7953"
             ],
             [
              0.7777777777777778,
              "#fb9f3a"
             ],
             [
              0.8888888888888888,
              "#fdca26"
             ],
             [
              1,
              "#f0f921"
             ]
            ],
            "type": "surface"
           }
          ],
          "table": [
           {
            "cells": {
             "fill": {
              "color": "#EBF0F8"
             },
             "line": {
              "color": "white"
             }
            },
            "header": {
             "fill": {
              "color": "#C8D4E3"
             },
             "line": {
              "color": "white"
             }
            },
            "type": "table"
           }
          ]
         },
         "layout": {
          "annotationdefaults": {
           "arrowcolor": "#2a3f5f",
           "arrowhead": 0,
           "arrowwidth": 1
          },
          "coloraxis": {
           "colorbar": {
            "outlinewidth": 0,
            "ticks": ""
           }
          },
          "colorscale": {
           "diverging": [
            [
             0,
             "#8e0152"
            ],
            [
             0.1,
             "#c51b7d"
            ],
            [
             0.2,
             "#de77ae"
            ],
            [
             0.3,
             "#f1b6da"
            ],
            [
             0.4,
             "#fde0ef"
            ],
            [
             0.5,
             "#f7f7f7"
            ],
            [
             0.6,
             "#e6f5d0"
            ],
            [
             0.7,
             "#b8e186"
            ],
            [
             0.8,
             "#7fbc41"
            ],
            [
             0.9,
             "#4d9221"
            ],
            [
             1,
             "#276419"
            ]
           ],
           "sequential": [
            [
             0,
             "#0d0887"
            ],
            [
             0.1111111111111111,
             "#46039f"
            ],
            [
             0.2222222222222222,
             "#7201a8"
            ],
            [
             0.3333333333333333,
             "#9c179e"
            ],
            [
             0.4444444444444444,
             "#bd3786"
            ],
            [
             0.5555555555555556,
             "#d8576b"
            ],
            [
             0.6666666666666666,
             "#ed7953"
            ],
            [
             0.7777777777777778,
             "#fb9f3a"
            ],
            [
             0.8888888888888888,
             "#fdca26"
            ],
            [
             1,
             "#f0f921"
            ]
           ],
           "sequentialminus": [
            [
             0,
             "#0d0887"
            ],
            [
             0.1111111111111111,
             "#46039f"
            ],
            [
             0.2222222222222222,
             "#7201a8"
            ],
            [
             0.3333333333333333,
             "#9c179e"
            ],
            [
             0.4444444444444444,
             "#bd3786"
            ],
            [
             0.5555555555555556,
             "#d8576b"
            ],
            [
             0.6666666666666666,
             "#ed7953"
            ],
            [
             0.7777777777777778,
             "#fb9f3a"
            ],
            [
             0.8888888888888888,
             "#fdca26"
            ],
            [
             1,
             "#f0f921"
            ]
           ]
          },
          "colorway": [
           "#636efa",
           "#EF553B",
           "#00cc96",
           "#ab63fa",
           "#FFA15A",
           "#19d3f3",
           "#FF6692",
           "#B6E880",
           "#FF97FF",
           "#FECB52"
          ],
          "font": {
           "color": "#2a3f5f"
          },
          "geo": {
           "bgcolor": "white",
           "lakecolor": "white",
           "landcolor": "#E5ECF6",
           "showlakes": true,
           "showland": true,
           "subunitcolor": "white"
          },
          "hoverlabel": {
           "align": "left"
          },
          "hovermode": "closest",
          "mapbox": {
           "style": "light"
          },
          "paper_bgcolor": "white",
          "plot_bgcolor": "#E5ECF6",
          "polar": {
           "angularaxis": {
            "gridcolor": "white",
            "linecolor": "white",
            "ticks": ""
           },
           "bgcolor": "#E5ECF6",
           "radialaxis": {
            "gridcolor": "white",
            "linecolor": "white",
            "ticks": ""
           }
          },
          "scene": {
           "xaxis": {
            "backgroundcolor": "#E5ECF6",
            "gridcolor": "white",
            "gridwidth": 2,
            "linecolor": "white",
            "showbackground": true,
            "ticks": "",
            "zerolinecolor": "white"
           },
           "yaxis": {
            "backgroundcolor": "#E5ECF6",
            "gridcolor": "white",
            "gridwidth": 2,
            "linecolor": "white",
            "showbackground": true,
            "ticks": "",
            "zerolinecolor": "white"
           },
           "zaxis": {
            "backgroundcolor": "#E5ECF6",
            "gridcolor": "white",
            "gridwidth": 2,
            "linecolor": "white",
            "showbackground": true,
            "ticks": "",
            "zerolinecolor": "white"
           }
          },
          "shapedefaults": {
           "line": {
            "color": "#2a3f5f"
           }
          },
          "ternary": {
           "aaxis": {
            "gridcolor": "white",
            "linecolor": "white",
            "ticks": ""
           },
           "baxis": {
            "gridcolor": "white",
            "linecolor": "white",
            "ticks": ""
           },
           "bgcolor": "#E5ECF6",
           "caxis": {
            "gridcolor": "white",
            "linecolor": "white",
            "ticks": ""
           }
          },
          "title": {
           "x": 0.05
          },
          "xaxis": {
           "automargin": true,
           "gridcolor": "white",
           "linecolor": "white",
           "ticks": "",
           "title": {
            "standoff": 15
           },
           "zerolinecolor": "white",
           "zerolinewidth": 2
          },
          "yaxis": {
           "automargin": true,
           "gridcolor": "white",
           "linecolor": "white",
           "ticks": "",
           "title": {
            "standoff": 15
           },
           "zerolinecolor": "white",
           "zerolinewidth": 2
          }
         }
        },
        "title": {
         "text": "Apply frequency",
         "x": 0.5
        },
        "xaxis": {
         "type": "category"
        }
       }
      },
      "text/html": [
       "<div>\n",
       "        \n",
       "        \n",
       "            <div id=\"ea8e7b13-ec2a-45a1-939e-15bfc6b8ada3\" class=\"plotly-graph-div\" style=\"height:525px; width:100%;\"></div>\n",
       "            <script type=\"text/javascript\">\n",
       "                require([\"plotly\"], function(Plotly) {\n",
       "                    window.PLOTLYENV=window.PLOTLYENV || {};\n",
       "                    \n",
       "                if (document.getElementById(\"ea8e7b13-ec2a-45a1-939e-15bfc6b8ada3\")) {\n",
       "                    Plotly.newPlot(\n",
       "                        'ea8e7b13-ec2a-45a1-939e-15bfc6b8ada3',\n",
       "                        [{\"type\": \"bar\", \"x\": [0, 1], \"y\": [988093, 98313]}],\n",
       "                        {\"template\": {\"data\": {\"bar\": [{\"error_x\": {\"color\": \"#2a3f5f\"}, \"error_y\": {\"color\": \"#2a3f5f\"}, \"marker\": {\"line\": {\"color\": \"#E5ECF6\", \"width\": 0.5}}, \"type\": \"bar\"}], \"barpolar\": [{\"marker\": {\"line\": {\"color\": \"#E5ECF6\", \"width\": 0.5}}, \"type\": \"barpolar\"}], \"carpet\": [{\"aaxis\": {\"endlinecolor\": \"#2a3f5f\", \"gridcolor\": \"white\", \"linecolor\": \"white\", \"minorgridcolor\": \"white\", \"startlinecolor\": \"#2a3f5f\"}, \"baxis\": {\"endlinecolor\": \"#2a3f5f\", \"gridcolor\": \"white\", \"linecolor\": \"white\", \"minorgridcolor\": \"white\", \"startlinecolor\": \"#2a3f5f\"}, \"type\": \"carpet\"}], \"choropleth\": [{\"colorbar\": {\"outlinewidth\": 0, \"ticks\": \"\"}, \"type\": \"choropleth\"}], \"contour\": [{\"colorbar\": {\"outlinewidth\": 0, \"ticks\": \"\"}, \"colorscale\": [[0.0, \"#0d0887\"], [0.1111111111111111, \"#46039f\"], [0.2222222222222222, \"#7201a8\"], [0.3333333333333333, \"#9c179e\"], [0.4444444444444444, \"#bd3786\"], [0.5555555555555556, \"#d8576b\"], [0.6666666666666666, \"#ed7953\"], [0.7777777777777778, \"#fb9f3a\"], [0.8888888888888888, \"#fdca26\"], [1.0, \"#f0f921\"]], \"type\": \"contour\"}], \"contourcarpet\": [{\"colorbar\": {\"outlinewidth\": 0, \"ticks\": \"\"}, \"type\": \"contourcarpet\"}], \"heatmap\": [{\"colorbar\": {\"outlinewidth\": 0, \"ticks\": \"\"}, \"colorscale\": [[0.0, \"#0d0887\"], [0.1111111111111111, \"#46039f\"], [0.2222222222222222, \"#7201a8\"], [0.3333333333333333, \"#9c179e\"], [0.4444444444444444, \"#bd3786\"], [0.5555555555555556, \"#d8576b\"], [0.6666666666666666, \"#ed7953\"], [0.7777777777777778, \"#fb9f3a\"], [0.8888888888888888, \"#fdca26\"], [1.0, \"#f0f921\"]], \"type\": \"heatmap\"}], \"heatmapgl\": [{\"colorbar\": {\"outlinewidth\": 0, \"ticks\": \"\"}, \"colorscale\": [[0.0, \"#0d0887\"], [0.1111111111111111, \"#46039f\"], [0.2222222222222222, \"#7201a8\"], [0.3333333333333333, \"#9c179e\"], [0.4444444444444444, \"#bd3786\"], [0.5555555555555556, \"#d8576b\"], [0.6666666666666666, \"#ed7953\"], [0.7777777777777778, \"#fb9f3a\"], [0.8888888888888888, \"#fdca26\"], [1.0, \"#f0f921\"]], \"type\": \"heatmapgl\"}], \"histogram\": [{\"marker\": {\"colorbar\": {\"outlinewidth\": 0, \"ticks\": \"\"}}, \"type\": \"histogram\"}], \"histogram2d\": [{\"colorbar\": {\"outlinewidth\": 0, \"ticks\": \"\"}, \"colorscale\": [[0.0, \"#0d0887\"], [0.1111111111111111, \"#46039f\"], [0.2222222222222222, \"#7201a8\"], [0.3333333333333333, \"#9c179e\"], [0.4444444444444444, \"#bd3786\"], [0.5555555555555556, \"#d8576b\"], [0.6666666666666666, \"#ed7953\"], [0.7777777777777778, \"#fb9f3a\"], [0.8888888888888888, \"#fdca26\"], [1.0, \"#f0f921\"]], \"type\": \"histogram2d\"}], \"histogram2dcontour\": [{\"colorbar\": {\"outlinewidth\": 0, \"ticks\": \"\"}, \"colorscale\": [[0.0, \"#0d0887\"], [0.1111111111111111, \"#46039f\"], [0.2222222222222222, \"#7201a8\"], [0.3333333333333333, \"#9c179e\"], [0.4444444444444444, \"#bd3786\"], [0.5555555555555556, \"#d8576b\"], [0.6666666666666666, \"#ed7953\"], [0.7777777777777778, \"#fb9f3a\"], [0.8888888888888888, \"#fdca26\"], [1.0, \"#f0f921\"]], \"type\": \"histogram2dcontour\"}], \"mesh3d\": [{\"colorbar\": {\"outlinewidth\": 0, \"ticks\": \"\"}, \"type\": \"mesh3d\"}], \"parcoords\": [{\"line\": {\"colorbar\": {\"outlinewidth\": 0, \"ticks\": \"\"}}, \"type\": \"parcoords\"}], \"pie\": [{\"automargin\": true, \"type\": \"pie\"}], \"scatter\": [{\"marker\": {\"colorbar\": {\"outlinewidth\": 0, \"ticks\": \"\"}}, \"type\": \"scatter\"}], \"scatter3d\": [{\"line\": {\"colorbar\": {\"outlinewidth\": 0, \"ticks\": \"\"}}, \"marker\": {\"colorbar\": {\"outlinewidth\": 0, \"ticks\": \"\"}}, \"type\": \"scatter3d\"}], \"scattercarpet\": [{\"marker\": {\"colorbar\": {\"outlinewidth\": 0, \"ticks\": \"\"}}, \"type\": \"scattercarpet\"}], \"scattergeo\": [{\"marker\": {\"colorbar\": {\"outlinewidth\": 0, \"ticks\": \"\"}}, \"type\": \"scattergeo\"}], \"scattergl\": [{\"marker\": {\"colorbar\": {\"outlinewidth\": 0, \"ticks\": \"\"}}, \"type\": \"scattergl\"}], \"scattermapbox\": [{\"marker\": {\"colorbar\": {\"outlinewidth\": 0, \"ticks\": \"\"}}, \"type\": \"scattermapbox\"}], \"scatterpolar\": [{\"marker\": {\"colorbar\": {\"outlinewidth\": 0, \"ticks\": \"\"}}, \"type\": \"scatterpolar\"}], \"scatterpolargl\": [{\"marker\": {\"colorbar\": {\"outlinewidth\": 0, \"ticks\": \"\"}}, \"type\": \"scatterpolargl\"}], \"scatterternary\": [{\"marker\": {\"colorbar\": {\"outlinewidth\": 0, \"ticks\": \"\"}}, \"type\": \"scatterternary\"}], \"surface\": [{\"colorbar\": {\"outlinewidth\": 0, \"ticks\": \"\"}, \"colorscale\": [[0.0, \"#0d0887\"], [0.1111111111111111, \"#46039f\"], [0.2222222222222222, \"#7201a8\"], [0.3333333333333333, \"#9c179e\"], [0.4444444444444444, \"#bd3786\"], [0.5555555555555556, \"#d8576b\"], [0.6666666666666666, \"#ed7953\"], [0.7777777777777778, \"#fb9f3a\"], [0.8888888888888888, \"#fdca26\"], [1.0, \"#f0f921\"]], \"type\": \"surface\"}], \"table\": [{\"cells\": {\"fill\": {\"color\": \"#EBF0F8\"}, \"line\": {\"color\": \"white\"}}, \"header\": {\"fill\": {\"color\": \"#C8D4E3\"}, \"line\": {\"color\": \"white\"}}, \"type\": \"table\"}]}, \"layout\": {\"annotationdefaults\": {\"arrowcolor\": \"#2a3f5f\", \"arrowhead\": 0, \"arrowwidth\": 1}, \"coloraxis\": {\"colorbar\": {\"outlinewidth\": 0, \"ticks\": \"\"}}, \"colorscale\": {\"diverging\": [[0, \"#8e0152\"], [0.1, \"#c51b7d\"], [0.2, \"#de77ae\"], [0.3, \"#f1b6da\"], [0.4, \"#fde0ef\"], [0.5, \"#f7f7f7\"], [0.6, \"#e6f5d0\"], [0.7, \"#b8e186\"], [0.8, \"#7fbc41\"], [0.9, \"#4d9221\"], [1, \"#276419\"]], \"sequential\": [[0.0, \"#0d0887\"], [0.1111111111111111, \"#46039f\"], [0.2222222222222222, \"#7201a8\"], [0.3333333333333333, \"#9c179e\"], [0.4444444444444444, \"#bd3786\"], [0.5555555555555556, \"#d8576b\"], [0.6666666666666666, \"#ed7953\"], [0.7777777777777778, \"#fb9f3a\"], [0.8888888888888888, \"#fdca26\"], [1.0, \"#f0f921\"]], \"sequentialminus\": [[0.0, \"#0d0887\"], [0.1111111111111111, \"#46039f\"], [0.2222222222222222, \"#7201a8\"], [0.3333333333333333, \"#9c179e\"], [0.4444444444444444, \"#bd3786\"], [0.5555555555555556, \"#d8576b\"], [0.6666666666666666, \"#ed7953\"], [0.7777777777777778, \"#fb9f3a\"], [0.8888888888888888, \"#fdca26\"], [1.0, \"#f0f921\"]]}, \"colorway\": [\"#636efa\", \"#EF553B\", \"#00cc96\", \"#ab63fa\", \"#FFA15A\", \"#19d3f3\", \"#FF6692\", \"#B6E880\", \"#FF97FF\", \"#FECB52\"], \"font\": {\"color\": \"#2a3f5f\"}, \"geo\": {\"bgcolor\": \"white\", \"lakecolor\": \"white\", \"landcolor\": \"#E5ECF6\", \"showlakes\": true, \"showland\": true, \"subunitcolor\": \"white\"}, \"hoverlabel\": {\"align\": \"left\"}, \"hovermode\": \"closest\", \"mapbox\": {\"style\": \"light\"}, \"paper_bgcolor\": \"white\", \"plot_bgcolor\": \"#E5ECF6\", \"polar\": {\"angularaxis\": {\"gridcolor\": \"white\", \"linecolor\": \"white\", \"ticks\": \"\"}, \"bgcolor\": \"#E5ECF6\", \"radialaxis\": {\"gridcolor\": \"white\", \"linecolor\": \"white\", \"ticks\": \"\"}}, \"scene\": {\"xaxis\": {\"backgroundcolor\": \"#E5ECF6\", \"gridcolor\": \"white\", \"gridwidth\": 2, \"linecolor\": \"white\", \"showbackground\": true, \"ticks\": \"\", \"zerolinecolor\": \"white\"}, \"yaxis\": {\"backgroundcolor\": \"#E5ECF6\", \"gridcolor\": \"white\", \"gridwidth\": 2, \"linecolor\": \"white\", \"showbackground\": true, \"ticks\": \"\", \"zerolinecolor\": \"white\"}, \"zaxis\": {\"backgroundcolor\": \"#E5ECF6\", \"gridcolor\": \"white\", \"gridwidth\": 2, \"linecolor\": \"white\", \"showbackground\": true, \"ticks\": \"\", \"zerolinecolor\": \"white\"}}, \"shapedefaults\": {\"line\": {\"color\": \"#2a3f5f\"}}, \"ternary\": {\"aaxis\": {\"gridcolor\": \"white\", \"linecolor\": \"white\", \"ticks\": \"\"}, \"baxis\": {\"gridcolor\": \"white\", \"linecolor\": \"white\", \"ticks\": \"\"}, \"bgcolor\": \"#E5ECF6\", \"caxis\": {\"gridcolor\": \"white\", \"linecolor\": \"white\", \"ticks\": \"\"}}, \"title\": {\"x\": 0.05}, \"xaxis\": {\"automargin\": true, \"gridcolor\": \"white\", \"linecolor\": \"white\", \"ticks\": \"\", \"title\": {\"standoff\": 15}, \"zerolinecolor\": \"white\", \"zerolinewidth\": 2}, \"yaxis\": {\"automargin\": true, \"gridcolor\": \"white\", \"linecolor\": \"white\", \"ticks\": \"\", \"title\": {\"standoff\": 15}, \"zerolinecolor\": \"white\", \"zerolinewidth\": 2}}}, \"title\": {\"text\": \"Apply frequency\", \"x\": 0.5}, \"xaxis\": {\"type\": \"category\"}},\n",
       "                        {\"responsive\": true}\n",
       "                    ).then(function(){\n",
       "                            \n",
       "var gd = document.getElementById('ea8e7b13-ec2a-45a1-939e-15bfc6b8ada3');\n",
       "var x = new MutationObserver(function (mutations, observer) {{\n",
       "        var display = window.getComputedStyle(gd).display;\n",
       "        if (!display || display === 'none') {{\n",
       "            console.log([gd, 'removed!']);\n",
       "            Plotly.purge(gd);\n",
       "            observer.disconnect();\n",
       "        }}\n",
       "}});\n",
       "\n",
       "// Listen for the removal of the full notebook cells\n",
       "var notebookContainer = gd.closest('#notebook-container');\n",
       "if (notebookContainer) {{\n",
       "    x.observe(notebookContainer, {childList: true});\n",
       "}}\n",
       "\n",
       "// Listen for the clearing of the current output cell\n",
       "var outputEl = gd.closest('.output');\n",
       "if (outputEl) {{\n",
       "    x.observe(outputEl, {childList: true});\n",
       "}}\n",
       "\n",
       "                        })\n",
       "                };\n",
       "                });\n",
       "            </script>\n",
       "        </div>"
      ]
     },
     "metadata": {},
     "output_type": "display_data"
    }
   ],
   "source": [
    "# drop duplicate\n",
    "df.drop_duplicates(inplace=True)\n",
    "\n",
    "fig = go.Figure([go.Bar(x=df['apply'].unique(), y=df['apply'].value_counts())])\n",
    "fig.update_layout(xaxis_type='category', title_text='Apply frequency', title_x=0.5)\n",
    "fig.show()  # imbalanced"
   ]
  },
  {
   "cell_type": "code",
   "execution_count": 83,
   "metadata": {},
   "outputs": [
    {
     "data": {
      "text/html": [
       "<div>\n",
       "<style scoped>\n",
       "    .dataframe tbody tr th:only-of-type {\n",
       "        vertical-align: middle;\n",
       "    }\n",
       "\n",
       "    .dataframe tbody tr th {\n",
       "        vertical-align: top;\n",
       "    }\n",
       "\n",
       "    .dataframe thead th {\n",
       "        text-align: right;\n",
       "    }\n",
       "</style>\n",
       "<table border=\"1\" class=\"dataframe\">\n",
       "  <thead>\n",
       "    <tr style=\"text-align: right;\">\n",
       "      <th></th>\n",
       "      <th>title_proximity_tfidf</th>\n",
       "      <th>description_proximity_tfidf</th>\n",
       "      <th>main_query_tfidf</th>\n",
       "      <th>query_jl_score</th>\n",
       "      <th>query_title_score</th>\n",
       "      <th>city_match</th>\n",
       "      <th>job_age_days</th>\n",
       "      <th>apply</th>\n",
       "    </tr>\n",
       "  </thead>\n",
       "  <tbody>\n",
       "    <tr>\n",
       "      <th>count</th>\n",
       "      <td>1.086406e+06</td>\n",
       "      <td>1.086406e+06</td>\n",
       "      <td>1.086406e+06</td>\n",
       "      <td>1.086406e+06</td>\n",
       "      <td>1.086406e+06</td>\n",
       "      <td>1.086406e+06</td>\n",
       "      <td>1.086406e+06</td>\n",
       "      <td>1.086406e+06</td>\n",
       "    </tr>\n",
       "    <tr>\n",
       "      <th>mean</th>\n",
       "      <td>6.020506e+00</td>\n",
       "      <td>9.808819e-02</td>\n",
       "      <td>1.874158e+00</td>\n",
       "      <td>1.713798e-02</td>\n",
       "      <td>3.616302e-02</td>\n",
       "      <td>6.544027e-01</td>\n",
       "      <td>1.052224e+01</td>\n",
       "      <td>9.049379e-02</td>\n",
       "    </tr>\n",
       "    <tr>\n",
       "      <th>std</th>\n",
       "      <td>8.896574e+00</td>\n",
       "      <td>2.596325e-01</td>\n",
       "      <td>2.254636e+00</td>\n",
       "      <td>1.246974e-02</td>\n",
       "      <td>4.941218e-02</td>\n",
       "      <td>4.755628e-01</td>\n",
       "      <td>1.783499e+01</td>\n",
       "      <td>2.868880e-01</td>\n",
       "    </tr>\n",
       "    <tr>\n",
       "      <th>min</th>\n",
       "      <td>0.000000e+00</td>\n",
       "      <td>0.000000e+00</td>\n",
       "      <td>0.000000e+00</td>\n",
       "      <td>1.000000e-06</td>\n",
       "      <td>9.998021e-07</td>\n",
       "      <td>0.000000e+00</td>\n",
       "      <td>0.000000e+00</td>\n",
       "      <td>0.000000e+00</td>\n",
       "    </tr>\n",
       "    <tr>\n",
       "      <th>25%</th>\n",
       "      <td>0.000000e+00</td>\n",
       "      <td>0.000000e+00</td>\n",
       "      <td>0.000000e+00</td>\n",
       "      <td>1.043009e-02</td>\n",
       "      <td>1.229762e-02</td>\n",
       "      <td>0.000000e+00</td>\n",
       "      <td>2.000000e+00</td>\n",
       "      <td>0.000000e+00</td>\n",
       "    </tr>\n",
       "    <tr>\n",
       "      <th>50%</th>\n",
       "      <td>0.000000e+00</td>\n",
       "      <td>2.799273e-02</td>\n",
       "      <td>7.844908e-01</td>\n",
       "      <td>1.562717e-02</td>\n",
       "      <td>2.041954e-02</td>\n",
       "      <td>1.000000e+00</td>\n",
       "      <td>6.000000e+00</td>\n",
       "      <td>0.000000e+00</td>\n",
       "    </tr>\n",
       "    <tr>\n",
       "      <th>75%</th>\n",
       "      <td>7.979742e+00</td>\n",
       "      <td>9.808819e-02</td>\n",
       "      <td>3.570944e+00</td>\n",
       "      <td>2.069120e-02</td>\n",
       "      <td>3.824712e-02</td>\n",
       "      <td>1.000000e+00</td>\n",
       "      <td>1.500000e+01</td>\n",
       "      <td>0.000000e+00</td>\n",
       "    </tr>\n",
       "    <tr>\n",
       "      <th>max</th>\n",
       "      <td>9.351672e+01</td>\n",
       "      <td>7.301161e+00</td>\n",
       "      <td>1.774189e+01</td>\n",
       "      <td>2.556893e-01</td>\n",
       "      <td>1.294088e+00</td>\n",
       "      <td>1.000000e+00</td>\n",
       "      <td>1.340000e+03</td>\n",
       "      <td>1.000000e+00</td>\n",
       "    </tr>\n",
       "  </tbody>\n",
       "</table>\n",
       "</div>"
      ],
      "text/plain": [
       "       title_proximity_tfidf  description_proximity_tfidf  main_query_tfidf  \\\n",
       "count           1.086406e+06                 1.086406e+06      1.086406e+06   \n",
       "mean            6.020506e+00                 9.808819e-02      1.874158e+00   \n",
       "std             8.896574e+00                 2.596325e-01      2.254636e+00   \n",
       "min             0.000000e+00                 0.000000e+00      0.000000e+00   \n",
       "25%             0.000000e+00                 0.000000e+00      0.000000e+00   \n",
       "50%             0.000000e+00                 2.799273e-02      7.844908e-01   \n",
       "75%             7.979742e+00                 9.808819e-02      3.570944e+00   \n",
       "max             9.351672e+01                 7.301161e+00      1.774189e+01   \n",
       "\n",
       "       query_jl_score  query_title_score    city_match  job_age_days  \\\n",
       "count    1.086406e+06       1.086406e+06  1.086406e+06  1.086406e+06   \n",
       "mean     1.713798e-02       3.616302e-02  6.544027e-01  1.052224e+01   \n",
       "std      1.246974e-02       4.941218e-02  4.755628e-01  1.783499e+01   \n",
       "min      1.000000e-06       9.998021e-07  0.000000e+00  0.000000e+00   \n",
       "25%      1.043009e-02       1.229762e-02  0.000000e+00  2.000000e+00   \n",
       "50%      1.562717e-02       2.041954e-02  1.000000e+00  6.000000e+00   \n",
       "75%      2.069120e-02       3.824712e-02  1.000000e+00  1.500000e+01   \n",
       "max      2.556893e-01       1.294088e+00  1.000000e+00  1.340000e+03   \n",
       "\n",
       "              apply  \n",
       "count  1.086406e+06  \n",
       "mean   9.049379e-02  \n",
       "std    2.868880e-01  \n",
       "min    0.000000e+00  \n",
       "25%    0.000000e+00  \n",
       "50%    0.000000e+00  \n",
       "75%    0.000000e+00  \n",
       "max    1.000000e+00  "
      ]
     },
     "execution_count": 83,
     "metadata": {},
     "output_type": "execute_result"
    }
   ],
   "source": [
    "# start fking preprocessing\n",
    "from sklearn.experimental import enable_iterative_imputer\n",
    "from sklearn.impute import IterativeImputer\n",
    "import random\n",
    "import math\n",
    "\n",
    "# fill missing values by MICE, then change city_match back to 0/1\n",
    "# because directly assign 0 to city_match will worsen the result.\n",
    "df.iloc[:,:2] = IterativeImputer().fit_transform(df.iloc[:,:2])\n",
    "df.iloc[:,5:6] = IterativeImputer().fit_transform(df.iloc[:,5:6])\n",
    "df['city_match'] = df['city_match'].round()\n",
    "\n",
    "df.describe()"
   ]
  },
  {
   "cell_type": "code",
   "execution_count": 84,
   "metadata": {},
   "outputs": [
    {
     "name": "stdout",
     "output_type": "stream",
     "text": [
      "number of NaN in title_proximity_tfidf: 0\n",
      "number of NaN in description_proximity_tfidf: 0\n",
      "number of NaN in city_match: 0\n"
     ]
    }
   ],
   "source": [
    "print('number of NaN in title_proximity_tfidf:',len(df[df['title_proximity_tfidf'].isnull()]))\n",
    "print('number of NaN in description_proximity_tfidf:',len(df[df['description_proximity_tfidf'].isnull()]))\n",
    "print('number of NaN in city_match:',len(df[df['city_match'].isnull()]))"
   ]
  },
  {
   "cell_type": "code",
   "execution_count": 85,
   "metadata": {},
   "outputs": [
    {
     "data": {
      "text/html": [
       "<div>\n",
       "<style scoped>\n",
       "    .dataframe tbody tr th:only-of-type {\n",
       "        vertical-align: middle;\n",
       "    }\n",
       "\n",
       "    .dataframe tbody tr th {\n",
       "        vertical-align: top;\n",
       "    }\n",
       "\n",
       "    .dataframe thead th {\n",
       "        text-align: right;\n",
       "    }\n",
       "</style>\n",
       "<table border=\"1\" class=\"dataframe\">\n",
       "  <thead>\n",
       "    <tr style=\"text-align: right;\">\n",
       "      <th></th>\n",
       "      <th>title_proximity_tfidf</th>\n",
       "      <th>description_proximity_tfidf</th>\n",
       "      <th>main_query_tfidf</th>\n",
       "      <th>query_jl_score</th>\n",
       "      <th>query_title_score</th>\n",
       "      <th>city_match</th>\n",
       "      <th>job_age_days</th>\n",
       "      <th>apply</th>\n",
       "      <th>search_date_pacific</th>\n",
       "    </tr>\n",
       "  </thead>\n",
       "  <tbody>\n",
       "    <tr>\n",
       "      <th>0</th>\n",
       "      <td>0.000000</td>\n",
       "      <td>0.000000</td>\n",
       "      <td>0.000000</td>\n",
       "      <td>0.004824</td>\n",
       "      <td>0.006628</td>\n",
       "      <td>0.0</td>\n",
       "      <td>5.0</td>\n",
       "      <td>0</td>\n",
       "      <td>2018-01-21</td>\n",
       "    </tr>\n",
       "    <tr>\n",
       "      <th>1</th>\n",
       "      <td>11.874042</td>\n",
       "      <td>0.043637</td>\n",
       "      <td>2.527080</td>\n",
       "      <td>0.011935</td>\n",
       "      <td>0.011208</td>\n",
       "      <td>0.0</td>\n",
       "      <td>5.0</td>\n",
       "      <td>0</td>\n",
       "      <td>2018-01-21</td>\n",
       "    </tr>\n",
       "    <tr>\n",
       "      <th>2</th>\n",
       "      <td>11.874042</td>\n",
       "      <td>0.043637</td>\n",
       "      <td>2.527080</td>\n",
       "      <td>0.011935</td>\n",
       "      <td>0.011208</td>\n",
       "      <td>0.0</td>\n",
       "      <td>5.0</td>\n",
       "      <td>1</td>\n",
       "      <td>2018-01-21</td>\n",
       "    </tr>\n",
       "    <tr>\n",
       "      <th>3</th>\n",
       "      <td>0.000000</td>\n",
       "      <td>0.000000</td>\n",
       "      <td>3.695809</td>\n",
       "      <td>0.013046</td>\n",
       "      <td>0.033340</td>\n",
       "      <td>0.0</td>\n",
       "      <td>5.0</td>\n",
       "      <td>0</td>\n",
       "      <td>2018-01-23</td>\n",
       "    </tr>\n",
       "    <tr>\n",
       "      <th>4</th>\n",
       "      <td>6.020506</td>\n",
       "      <td>0.098088</td>\n",
       "      <td>7.868900</td>\n",
       "      <td>0.008065</td>\n",
       "      <td>0.008772</td>\n",
       "      <td>0.0</td>\n",
       "      <td>7.0</td>\n",
       "      <td>0</td>\n",
       "      <td>2018-01-24</td>\n",
       "    </tr>\n",
       "  </tbody>\n",
       "</table>\n",
       "</div>"
      ],
      "text/plain": [
       "   title_proximity_tfidf  description_proximity_tfidf  main_query_tfidf  \\\n",
       "0               0.000000                     0.000000          0.000000   \n",
       "1              11.874042                     0.043637          2.527080   \n",
       "2              11.874042                     0.043637          2.527080   \n",
       "3               0.000000                     0.000000          3.695809   \n",
       "4               6.020506                     0.098088          7.868900   \n",
       "\n",
       "   query_jl_score  query_title_score  city_match  job_age_days  apply  \\\n",
       "0        0.004824           0.006628         0.0           5.0      0   \n",
       "1        0.011935           0.011208         0.0           5.0      0   \n",
       "2        0.011935           0.011208         0.0           5.0      1   \n",
       "3        0.013046           0.033340         0.0           5.0      0   \n",
       "4        0.008065           0.008772         0.0           7.0      0   \n",
       "\n",
       "  search_date_pacific  \n",
       "0          2018-01-21  \n",
       "1          2018-01-21  \n",
       "2          2018-01-21  \n",
       "3          2018-01-23  \n",
       "4          2018-01-24  "
      ]
     },
     "execution_count": 85,
     "metadata": {},
     "output_type": "execute_result"
    }
   ],
   "source": [
    "df.head()"
   ]
  },
  {
   "cell_type": "code",
   "execution_count": 86,
   "metadata": {},
   "outputs": [
    {
     "name": "stdout",
     "output_type": "stream",
     "text": [
      "before separated: 1086406\n",
      "after separated: 1086406\n"
     ]
    }
   ],
   "source": [
    "test_x = df[df['search_date_pacific']=='2018-01-27'].drop(['search_date_pacific'], axis=1)\n",
    "x = len(test_x)\n",
    "train_x = df[df['search_date_pacific']!='2018-01-27'].drop(['search_date_pacific'], axis=1)\n",
    "y = len(train_x)\n",
    "print('before separated:',len(df))\n",
    "print('after separated:',x+y)"
   ]
  },
  {
   "cell_type": "code",
   "execution_count": 87,
   "metadata": {},
   "outputs": [
    {
     "data": {
      "text/html": [
       "<div>\n",
       "<style scoped>\n",
       "    .dataframe tbody tr th:only-of-type {\n",
       "        vertical-align: middle;\n",
       "    }\n",
       "\n",
       "    .dataframe tbody tr th {\n",
       "        vertical-align: top;\n",
       "    }\n",
       "\n",
       "    .dataframe thead th {\n",
       "        text-align: right;\n",
       "    }\n",
       "</style>\n",
       "<table border=\"1\" class=\"dataframe\">\n",
       "  <thead>\n",
       "    <tr style=\"text-align: right;\">\n",
       "      <th></th>\n",
       "      <th>title_proximity_tfidf</th>\n",
       "      <th>description_proximity_tfidf</th>\n",
       "      <th>main_query_tfidf</th>\n",
       "      <th>query_jl_score</th>\n",
       "      <th>query_title_score</th>\n",
       "      <th>job_age_days</th>\n",
       "      <th>city_match</th>\n",
       "    </tr>\n",
       "  </thead>\n",
       "  <tbody>\n",
       "    <tr>\n",
       "      <th>count</th>\n",
       "      <td>177208.000000</td>\n",
       "      <td>177208.000000</td>\n",
       "      <td>177208.000000</td>\n",
       "      <td>177208.000000</td>\n",
       "      <td>177208.000000</td>\n",
       "      <td>177208.000000</td>\n",
       "      <td>177208.000000</td>\n",
       "    </tr>\n",
       "    <tr>\n",
       "      <th>mean</th>\n",
       "      <td>0.062136</td>\n",
       "      <td>-0.004198</td>\n",
       "      <td>0.045748</td>\n",
       "      <td>0.082637</td>\n",
       "      <td>0.089707</td>\n",
       "      <td>-0.022920</td>\n",
       "      <td>0.659908</td>\n",
       "    </tr>\n",
       "    <tr>\n",
       "      <th>std</th>\n",
       "      <td>1.050864</td>\n",
       "      <td>1.011606</td>\n",
       "      <td>1.008600</td>\n",
       "      <td>1.100211</td>\n",
       "      <td>1.112646</td>\n",
       "      <td>0.990729</td>\n",
       "      <td>0.473741</td>\n",
       "    </tr>\n",
       "    <tr>\n",
       "      <th>min</th>\n",
       "      <td>-0.676992</td>\n",
       "      <td>-0.378304</td>\n",
       "      <td>-0.830372</td>\n",
       "      <td>-1.380463</td>\n",
       "      <td>-0.732116</td>\n",
       "      <td>-0.602250</td>\n",
       "      <td>0.000000</td>\n",
       "    </tr>\n",
       "    <tr>\n",
       "      <th>25%</th>\n",
       "      <td>-0.676992</td>\n",
       "      <td>-0.378304</td>\n",
       "      <td>-0.830372</td>\n",
       "      <td>-0.511098</td>\n",
       "      <td>-0.468736</td>\n",
       "      <td>-0.488244</td>\n",
       "      <td>0.000000</td>\n",
       "    </tr>\n",
       "    <tr>\n",
       "      <th>50%</th>\n",
       "      <td>-0.676992</td>\n",
       "      <td>-0.274632</td>\n",
       "      <td>-0.375627</td>\n",
       "      <td>-0.101385</td>\n",
       "      <td>-0.283004</td>\n",
       "      <td>-0.260232</td>\n",
       "      <td>1.000000</td>\n",
       "    </tr>\n",
       "    <tr>\n",
       "      <th>75%</th>\n",
       "      <td>0.523936</td>\n",
       "      <td>-0.000272</td>\n",
       "      <td>0.840587</td>\n",
       "      <td>0.363792</td>\n",
       "      <td>0.139185</td>\n",
       "      <td>0.195792</td>\n",
       "      <td>1.000000</td>\n",
       "    </tr>\n",
       "    <tr>\n",
       "      <th>max</th>\n",
       "      <td>7.682173</td>\n",
       "      <td>24.914928</td>\n",
       "      <td>7.031150</td>\n",
       "      <td>19.334764</td>\n",
       "      <td>24.926655</td>\n",
       "      <td>71.221484</td>\n",
       "      <td>1.000000</td>\n",
       "    </tr>\n",
       "  </tbody>\n",
       "</table>\n",
       "</div>"
      ],
      "text/plain": [
       "       title_proximity_tfidf  description_proximity_tfidf  main_query_tfidf  \\\n",
       "count          177208.000000                177208.000000     177208.000000   \n",
       "mean                0.062136                    -0.004198          0.045748   \n",
       "std                 1.050864                     1.011606          1.008600   \n",
       "min                -0.676992                    -0.378304         -0.830372   \n",
       "25%                -0.676992                    -0.378304         -0.830372   \n",
       "50%                -0.676992                    -0.274632         -0.375627   \n",
       "75%                 0.523936                    -0.000272          0.840587   \n",
       "max                 7.682173                    24.914928          7.031150   \n",
       "\n",
       "       query_jl_score  query_title_score   job_age_days     city_match  \n",
       "count   177208.000000      177208.000000  177208.000000  177208.000000  \n",
       "mean         0.082637           0.089707      -0.022920       0.659908  \n",
       "std          1.100211           1.112646       0.990729       0.473741  \n",
       "min         -1.380463          -0.732116      -0.602250       0.000000  \n",
       "25%         -0.511098          -0.468736      -0.488244       0.000000  \n",
       "50%         -0.101385          -0.283004      -0.260232       1.000000  \n",
       "75%          0.363792           0.139185       0.195792       1.000000  \n",
       "max         19.334764          24.926655      71.221484       1.000000  "
      ]
     },
     "execution_count": 87,
     "metadata": {},
     "output_type": "execute_result"
    }
   ],
   "source": [
    "from sklearn.model_selection import train_test_split\n",
    "from sklearn.compose import ColumnTransformer\n",
    "from sklearn.preprocessing import StandardScaler\n",
    "from imblearn.under_sampling import RandomUnderSampler\n",
    "#from imblearn.over_sampling import SMOTE\n",
    "\n",
    "# train_x, test_x = train_test_split(df, test_size=0.2, random_state=4211)\n",
    "train_y = train_x.pop('apply')\n",
    "test_y = test_x.pop('apply')\n",
    "\n",
    "# Normalisation using the sklearn StandardScaler. Set the mean to 0 and sd to 1.\n",
    "transform_columns = ['title_proximity_tfidf', 'description_proximity_tfidf', 'main_query_tfidf', 'query_jl_score', 'query_title_score', 'job_age_days']\n",
    "ct = ColumnTransformer(\n",
    "        remainder='passthrough',\n",
    "        transformers=[('std', StandardScaler(), transform_columns)])\n",
    "train_x = ct.fit_transform(train_x)\n",
    "test_x = ct.fit_transform(test_x)\n",
    "\n",
    "# after ColumnTransformm, city_match is at the ENDDDDDDD of the dataframe, this took me hours to figure out :)\n",
    "x_columns = ['title_proximity_tfidf', 'description_proximity_tfidf', 'main_query_tfidf', 'query_jl_score', 'query_title_score', 'job_age_days', 'city_match']\n",
    "train_x = pd.DataFrame(train_x, columns=x_columns)\n",
    "test_x = pd.DataFrame(test_x, columns=x_columns)\n",
    "\n",
    "# undersampling to reduce imbalance\n",
    "#train_x, train_y = SMOTE(sampling_strategy=0.2, random_state=0).fit_resample(train_x, train_y)  # not much different\n",
    "train_x, train_y = RandomUnderSampler(random_state=0).fit_resample(train_x, train_y)\n",
    "\n",
    "train_x.describe()"
   ]
  },
  {
   "cell_type": "code",
   "execution_count": 88,
   "metadata": {},
   "outputs": [
    {
     "data": {
      "text/html": [
       "<div>\n",
       "<style scoped>\n",
       "    .dataframe tbody tr th:only-of-type {\n",
       "        vertical-align: middle;\n",
       "    }\n",
       "\n",
       "    .dataframe tbody tr th {\n",
       "        vertical-align: top;\n",
       "    }\n",
       "\n",
       "    .dataframe thead th {\n",
       "        text-align: right;\n",
       "    }\n",
       "</style>\n",
       "<table border=\"1\" class=\"dataframe\">\n",
       "  <thead>\n",
       "    <tr style=\"text-align: right;\">\n",
       "      <th></th>\n",
       "      <th>title_proximity_tfidf</th>\n",
       "      <th>description_proximity_tfidf</th>\n",
       "      <th>main_query_tfidf</th>\n",
       "      <th>query_jl_score</th>\n",
       "      <th>query_title_score</th>\n",
       "      <th>job_age_days</th>\n",
       "      <th>city_match</th>\n",
       "    </tr>\n",
       "  </thead>\n",
       "  <tbody>\n",
       "    <tr>\n",
       "      <th>0</th>\n",
       "      <td>-0.676992</td>\n",
       "      <td>-0.378304</td>\n",
       "      <td>0.043339</td>\n",
       "      <td>-0.688836</td>\n",
       "      <td>-0.562773</td>\n",
       "      <td>-0.602250</td>\n",
       "      <td>0.0</td>\n",
       "    </tr>\n",
       "    <tr>\n",
       "      <th>1</th>\n",
       "      <td>1.606913</td>\n",
       "      <td>0.748207</td>\n",
       "      <td>0.759776</td>\n",
       "      <td>0.489567</td>\n",
       "      <td>-0.268045</td>\n",
       "      <td>7.663180</td>\n",
       "      <td>0.0</td>\n",
       "    </tr>\n",
       "    <tr>\n",
       "      <th>2</th>\n",
       "      <td>2.470372</td>\n",
       "      <td>3.855313</td>\n",
       "      <td>1.458380</td>\n",
       "      <td>1.590819</td>\n",
       "      <td>-0.195103</td>\n",
       "      <td>-0.545247</td>\n",
       "      <td>1.0</td>\n",
       "    </tr>\n",
       "    <tr>\n",
       "      <th>3</th>\n",
       "      <td>-0.676992</td>\n",
       "      <td>-0.076774</td>\n",
       "      <td>-0.830372</td>\n",
       "      <td>-0.676733</td>\n",
       "      <td>-0.509387</td>\n",
       "      <td>-0.545247</td>\n",
       "      <td>0.0</td>\n",
       "    </tr>\n",
       "    <tr>\n",
       "      <th>4</th>\n",
       "      <td>0.000445</td>\n",
       "      <td>-0.000272</td>\n",
       "      <td>-0.826476</td>\n",
       "      <td>-0.337936</td>\n",
       "      <td>-0.416778</td>\n",
       "      <td>-0.089223</td>\n",
       "      <td>0.0</td>\n",
       "    </tr>\n",
       "  </tbody>\n",
       "</table>\n",
       "</div>"
      ],
      "text/plain": [
       "   title_proximity_tfidf  description_proximity_tfidf  main_query_tfidf  \\\n",
       "0              -0.676992                    -0.378304          0.043339   \n",
       "1               1.606913                     0.748207          0.759776   \n",
       "2               2.470372                     3.855313          1.458380   \n",
       "3              -0.676992                    -0.076774         -0.830372   \n",
       "4               0.000445                    -0.000272         -0.826476   \n",
       "\n",
       "   query_jl_score  query_title_score  job_age_days  city_match  \n",
       "0       -0.688836          -0.562773     -0.602250         0.0  \n",
       "1        0.489567          -0.268045      7.663180         0.0  \n",
       "2        1.590819          -0.195103     -0.545247         1.0  \n",
       "3       -0.676733          -0.509387     -0.545247         0.0  \n",
       "4       -0.337936          -0.416778     -0.089223         0.0  "
      ]
     },
     "execution_count": 88,
     "metadata": {},
     "output_type": "execute_result"
    }
   ],
   "source": [
    "train_x.head()"
   ]
  },
  {
   "cell_type": "code",
   "execution_count": 89,
   "metadata": {},
   "outputs": [],
   "source": [
    "def report(clf):\n",
    "    pred_y = clf.predict(test_x)\n",
    "\n",
    "    print(classification_report(test_y, pred_y))\n",
    "    disp = plot_confusion_matrix(clf, test_x, test_y)\n",
    "    disp.figure_.suptitle(\"Confusion Matrix\")"
   ]
  },
  {
   "cell_type": "code",
   "execution_count": 90,
   "metadata": {},
   "outputs": [
    {
     "name": "stdout",
     "output_type": "stream",
     "text": [
      "46.366907835006714\n",
      "              precision    recall  f1-score   support\n",
      "\n",
      "           0       0.93      0.63      0.75     96347\n",
      "           1       0.12      0.52      0.20      9709\n",
      "\n",
      "    accuracy                           0.62    106056\n",
      "   macro avg       0.53      0.57      0.47    106056\n",
      "weighted avg       0.86      0.62      0.70    106056\n",
      "\n"
     ]
    },
    {
     "data": {
      "image/png": "[encoded data removed]",
      "text/plain": [
       "<Figure size 432x288 with 2 Axes>"
      ]
     },
     "metadata": {
      "needs_background": "light"
     },
     "output_type": "display_data"
    }
   ],
   "source": [
    "mlp = MLPClassifier(hidden_layer_sizes=(80, 60, ), learning_rate='adaptive', \n",
    "                    activation='relu',early_stopping=True, random_state=4211)\n",
    "\n",
    "start = time.time()\n",
    "mlp.fit(train_x, train_y)\n",
    "print(time.time()-start)\n",
    "report(mlp) # city_match not normalised, undersampling only"
   ]
  },
  {
   "cell_type": "code",
   "execution_count": 91,
   "metadata": {},
   "outputs": [
    {
     "name": "stdout",
     "output_type": "stream",
     "text": [
      "35.63493752479553\n",
      "              precision    recall  f1-score   support\n",
      "\n",
      "           0       0.92      0.37      0.53     96347\n",
      "           1       0.10      0.66      0.17      9709\n",
      "\n",
      "    accuracy                           0.40    106056\n",
      "   macro avg       0.51      0.52      0.35    106056\n",
      "weighted avg       0.84      0.40      0.49    106056\n",
      "\n"
     ]
    },
    {
     "data": {
      "image/png": "[encoded data removed]",
      "text/plain": [
       "<Figure size 432x288 with 2 Axes>"
      ]
     },
     "metadata": {
      "needs_background": "light"
     },
     "output_type": "display_data"
    }
   ],
   "source": [
    "mlp = MLPClassifier(hidden_layer_sizes=(100, 60, 30), learning_rate='invscaling', \n",
    "                    activation='identity',solver='sgd',early_stopping=True, random_state=4211)\n",
    "\n",
    "start = time.time()\n",
    "mlp.fit(train_x, train_y)\n",
    "print(time.time()-start)\n",
    "report(mlp) # city_match not normalised, undersampling only"
   ]
  },
  {
   "cell_type": "code",
   "execution_count": 92,
   "metadata": {},
   "outputs": [],
   "source": [
    "# # report the result\n",
    "# def report2(results, n_top=5):\n",
    "#     for i in range(1, n_top + 1):\n",
    "#         candidates = np.flatnonzero(results['rank_test_score'] == i)\n",
    "#         for candidate in candidates:\n",
    "#             print(\"Model with rank: {0}\".format(i))\n",
    "#             print(\"Mean validation score: {0:.5f} (sd: {1:.5f})\"\n",
    "#                   .format(results['mean_test_score'][candidate],\n",
    "#                           results['std_test_score'][candidate]))\n",
    "#             print(\"Hyperparameter setting: {0}\".format(results['params'][candidate]))\n",
    "#             print(\"\")"
   ]
  },
  {
   "cell_type": "code",
   "execution_count": null,
   "metadata": {},
   "outputs": [],
   "source": []
  },
  {
   "cell_type": "code",
   "execution_count": 93,
   "metadata": {},
   "outputs": [],
   "source": [
    "# # model\n",
    "# grid_search = {'hidden_layer_sizes': [(50, ), (100, ), (150, )],\n",
    "#                'activation':['relu','identity','logistic','tanh'],\n",
    "#                'solver':['lbfgs','sgd','adam'],\n",
    "#                 'learning_rate': ['constant', 'adaptive'],\n",
    "#                 'learning_rate_init': [0.01, 0.5],\n",
    "#                 'random_state': [4211],\n",
    "#                 'verbose':[2],'early_stopping':[True]\n",
    "#                 }\n",
    "# mlp = MLPClassifier()\n",
    "# grid_search = GridSearchCV(mlp, grid_search, n_jobs=-1, cv=5, verbose=3)\n",
    "# grid_search.fit(train_x, train_y)\n",
    "# report2(grid_search.cv_results_, 3)"
   ]
  },
  {
   "cell_type": "code",
   "execution_count": null,
   "metadata": {},
   "outputs": [],
   "source": []
  },
  {
   "cell_type": "code",
   "execution_count": null,
   "metadata": {},
   "outputs": [],
   "source": [
    "from sklearn.svm import LinearSVC, SVC\n",
    "clf = SVC()\n",
    "\n",
    "start = time.time()\n",
    "clf.fit(train_x, train_y)\n",
    "print(time.time()-start)\n",
    "report(clf)  # true negative more but true positive less than above nn, lul"
   ]
  },
  {
   "cell_type": "code",
   "execution_count": 95,
   "metadata": {},
   "outputs": [
    {
     "name": "stdout",
     "output_type": "stream",
     "text": [
      "Fitting 5 folds for each of 2 candidates, totalling 10 fits\n"
     ]
    },
    {
     "name": "stderr",
     "output_type": "stream",
     "text": [
      "[Parallel(n_jobs=-1)]: Using backend LokyBackend with 4 concurrent workers.\n",
      "[Parallel(n_jobs=-1)]: Done  10 out of  10 | elapsed:  4.5min finished\n",
      "D:\\Anaconda3\\lib\\site-packages\\sklearn\\svm\\_base.py:947: ConvergenceWarning:\n",
      "\n",
      "Liblinear failed to converge, increase the number of iterations.\n",
      "\n"
     ]
    },
    {
     "name": "stdout",
     "output_type": "stream",
     "text": [
      "              precision    recall  f1-score   support\n",
      "\n",
      "           0       0.92      0.70      0.79     96347\n",
      "           1       0.12      0.42      0.19      9709\n",
      "\n",
      "    accuracy                           0.67    106056\n",
      "   macro avg       0.52      0.56      0.49    106056\n",
      "weighted avg       0.85      0.67      0.74    106056\n",
      "\n"
     ]
    },
    {
     "data": {
      "image/png": "[encoded data removed]",
      "text/plain": [
       "<Figure size 432x288 with 2 Axes>"
      ]
     },
     "metadata": {
      "needs_background": "light"
     },
     "output_type": "display_data"
    }
   ],
   "source": [
    "from sklearn.model_selection import GridSearchCV  # this thing cpu intensive.\n",
    "tuned_parameters = {'C':np.arange(0.01,100,50)}\n",
    "\n",
    "clf = GridSearchCV(LinearSVC(), tuned_parameters, n_jobs=-1, verbose=2)\n",
    "clf.fit(train_x, train_y)\n",
    "report(clf)  # no much difference"
   ]
  },
  {
   "cell_type": "code",
   "execution_count": null,
   "metadata": {},
   "outputs": [],
   "source": []
  }
 ],
 "metadata": {
  "kernelspec": {
   "display_name": "Python 3",
   "language": "python",
   "name": "python3"
  },
  "language_info": {
   "codemirror_mode": {
    "name": "ipython",
    "version": 3
   },
   "file_extension": ".py",
   "mimetype": "text/x-python",
   "name": "python",
   "nbconvert_exporter": "python",
   "pygments_lexer": "ipython3",
   "version": "3.7.3"
  }
 },
 "nbformat": 4,
 "nbformat_minor": 4
}

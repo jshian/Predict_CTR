{
 "cells": [
  {
   "cell_type": "code",
   "execution_count": 1,
   "metadata": {},
   "outputs": [
    {
     "data": {
      "text/html": [
       "<div>\n",
       "<style scoped>\n",
       "    .dataframe tbody tr th:only-of-type {\n",
       "        vertical-align: middle;\n",
       "    }\n",
       "\n",
       "    .dataframe tbody tr th {\n",
       "        vertical-align: top;\n",
       "    }\n",
       "\n",
       "    .dataframe thead th {\n",
       "        text-align: right;\n",
       "    }\n",
       "</style>\n",
       "<table border=\"1\" class=\"dataframe\">\n",
       "  <thead>\n",
       "    <tr style=\"text-align: right;\">\n",
       "      <th></th>\n",
       "      <th>title_proximity_tfidf</th>\n",
       "      <th>description_proximity_tfidf</th>\n",
       "      <th>main_query_tfidf</th>\n",
       "      <th>query_jl_score</th>\n",
       "      <th>query_title_score</th>\n",
       "      <th>city_match</th>\n",
       "      <th>job_age_days</th>\n",
       "      <th>apply</th>\n",
       "    </tr>\n",
       "  </thead>\n",
       "  <tbody>\n",
       "    <tr>\n",
       "      <th>0</th>\n",
       "      <td>0.000000</td>\n",
       "      <td>0.000000</td>\n",
       "      <td>0.000000</td>\n",
       "      <td>0.004824</td>\n",
       "      <td>0.006628</td>\n",
       "      <td>0.0</td>\n",
       "      <td>5.0</td>\n",
       "      <td>0</td>\n",
       "    </tr>\n",
       "    <tr>\n",
       "      <th>1</th>\n",
       "      <td>11.874042</td>\n",
       "      <td>0.043637</td>\n",
       "      <td>2.527080</td>\n",
       "      <td>0.011935</td>\n",
       "      <td>0.011208</td>\n",
       "      <td>0.0</td>\n",
       "      <td>5.0</td>\n",
       "      <td>0</td>\n",
       "    </tr>\n",
       "    <tr>\n",
       "      <th>2</th>\n",
       "      <td>11.874042</td>\n",
       "      <td>0.043637</td>\n",
       "      <td>2.527080</td>\n",
       "      <td>0.011935</td>\n",
       "      <td>0.011208</td>\n",
       "      <td>0.0</td>\n",
       "      <td>5.0</td>\n",
       "      <td>1</td>\n",
       "    </tr>\n",
       "    <tr>\n",
       "      <th>3</th>\n",
       "      <td>0.000000</td>\n",
       "      <td>0.000000</td>\n",
       "      <td>3.695809</td>\n",
       "      <td>0.013046</td>\n",
       "      <td>0.033340</td>\n",
       "      <td>0.0</td>\n",
       "      <td>5.0</td>\n",
       "      <td>0</td>\n",
       "    </tr>\n",
       "    <tr>\n",
       "      <th>4</th>\n",
       "      <td>NaN</td>\n",
       "      <td>NaN</td>\n",
       "      <td>7.868900</td>\n",
       "      <td>0.008065</td>\n",
       "      <td>0.008772</td>\n",
       "      <td>0.0</td>\n",
       "      <td>7.0</td>\n",
       "      <td>0</td>\n",
       "    </tr>\n",
       "  </tbody>\n",
       "</table>\n",
       "</div>"
      ],
      "text/plain": [
       "   title_proximity_tfidf  description_proximity_tfidf  main_query_tfidf  \\\n",
       "0               0.000000                     0.000000          0.000000   \n",
       "1              11.874042                     0.043637          2.527080   \n",
       "2              11.874042                     0.043637          2.527080   \n",
       "3               0.000000                     0.000000          3.695809   \n",
       "4                    NaN                          NaN          7.868900   \n",
       "\n",
       "   query_jl_score  query_title_score  city_match  job_age_days  apply  \n",
       "0        0.004824           0.006628         0.0           5.0      0  \n",
       "1        0.011935           0.011208         0.0           5.0      0  \n",
       "2        0.011935           0.011208         0.0           5.0      1  \n",
       "3        0.013046           0.033340         0.0           5.0      0  \n",
       "4        0.008065           0.008772         0.0           7.0      0  "
      ]
     },
     "execution_count": 1,
     "metadata": {},
     "output_type": "execute_result"
    }
   ],
   "source": [
    "import time\n",
    "import numpy as np\n",
    "import pandas as pd\n",
    "from sklearn.svm import SVC, LinearSVC\n",
    "from sklearn.model_selection import train_test_split\n",
    "from sklearn.metrics import accuracy_score, f1_score\n",
    "from sklearn.metrics import classification_report, plot_confusion_matrix\n",
    "df = pd.read_csv('./dataset/Apply_Rate_2019.csv').drop(['search_date_pacific', 'class_id'], axis=1)\n",
    "df.head()"
   ]
  },
  {
   "cell_type": "code",
   "execution_count": 2,
   "metadata": {},
   "outputs": [
    {
     "data": {
      "text/plain": [
       "title_proximity_tfidf          252571\n",
       "description_proximity_tfidf    252571\n",
       "main_query_tfidf                    0\n",
       "query_jl_score                      0\n",
       "query_title_score                   0\n",
       "city_match                     256555\n",
       "job_age_days                        0\n",
       "apply                               0\n",
       "dtype: int64"
      ]
     },
     "execution_count": 2,
     "metadata": {},
     "output_type": "execute_result"
    }
   ],
   "source": [
    "df.isnull().sum()"
   ]
  },
  {
   "cell_type": "code",
   "execution_count": 3,
   "metadata": {},
   "outputs": [
    {
     "data": {
      "text/html": [
       "<div>\n",
       "<style scoped>\n",
       "    .dataframe tbody tr th:only-of-type {\n",
       "        vertical-align: middle;\n",
       "    }\n",
       "\n",
       "    .dataframe tbody tr th {\n",
       "        vertical-align: top;\n",
       "    }\n",
       "\n",
       "    .dataframe thead th {\n",
       "        text-align: right;\n",
       "    }\n",
       "</style>\n",
       "<table border=\"1\" class=\"dataframe\">\n",
       "  <thead>\n",
       "    <tr style=\"text-align: right;\">\n",
       "      <th></th>\n",
       "      <th>title_proximity_tfidf</th>\n",
       "      <th>description_proximity_tfidf</th>\n",
       "      <th>main_query_tfidf</th>\n",
       "      <th>query_jl_score</th>\n",
       "      <th>query_title_score</th>\n",
       "      <th>city_match</th>\n",
       "      <th>job_age_days</th>\n",
       "      <th>apply</th>\n",
       "    </tr>\n",
       "  </thead>\n",
       "  <tbody>\n",
       "    <tr>\n",
       "      <th>count</th>\n",
       "      <td>1.083825e+06</td>\n",
       "      <td>1.083825e+06</td>\n",
       "      <td>1.083825e+06</td>\n",
       "      <td>1.083825e+06</td>\n",
       "      <td>1.083825e+06</td>\n",
       "      <td>1.083825e+06</td>\n",
       "      <td>1.083825e+06</td>\n",
       "      <td>1.083825e+06</td>\n",
       "    </tr>\n",
       "    <tr>\n",
       "      <th>mean</th>\n",
       "      <td>5.466174e+00</td>\n",
       "      <td>9.854796e-02</td>\n",
       "      <td>1.878621e+00</td>\n",
       "      <td>1.713955e-02</td>\n",
       "      <td>3.617481e-02</td>\n",
       "      <td>5.478801e-01</td>\n",
       "      <td>1.053496e+01</td>\n",
       "      <td>9.061057e-02</td>\n",
       "    </tr>\n",
       "    <tr>\n",
       "      <th>std</th>\n",
       "      <td>9.435584e+00</td>\n",
       "      <td>2.601199e-01</td>\n",
       "      <td>2.255461e+00</td>\n",
       "      <td>1.247846e-02</td>\n",
       "      <td>4.943090e-02</td>\n",
       "      <td>4.393890e-01</td>\n",
       "      <td>1.785121e+01</td>\n",
       "      <td>2.870546e-01</td>\n",
       "    </tr>\n",
       "    <tr>\n",
       "      <th>min</th>\n",
       "      <td>-2.420884e+00</td>\n",
       "      <td>-7.675544e-02</td>\n",
       "      <td>0.000000e+00</td>\n",
       "      <td>1.000000e-06</td>\n",
       "      <td>9.998021e-07</td>\n",
       "      <td>0.000000e+00</td>\n",
       "      <td>0.000000e+00</td>\n",
       "      <td>0.000000e+00</td>\n",
       "    </tr>\n",
       "    <tr>\n",
       "      <th>25%</th>\n",
       "      <td>0.000000e+00</td>\n",
       "      <td>0.000000e+00</td>\n",
       "      <td>0.000000e+00</td>\n",
       "      <td>1.041667e-02</td>\n",
       "      <td>1.228964e-02</td>\n",
       "      <td>0.000000e+00</td>\n",
       "      <td>2.000000e+00</td>\n",
       "      <td>0.000000e+00</td>\n",
       "    </tr>\n",
       "    <tr>\n",
       "      <th>50%</th>\n",
       "      <td>0.000000e+00</td>\n",
       "      <td>2.787808e-02</td>\n",
       "      <td>7.994508e-01</td>\n",
       "      <td>1.562500e-02</td>\n",
       "      <td>2.042031e-02</td>\n",
       "      <td>5.659572e-01</td>\n",
       "      <td>6.000000e+00</td>\n",
       "      <td>0.000000e+00</td>\n",
       "    </tr>\n",
       "    <tr>\n",
       "      <th>75%</th>\n",
       "      <td>1.039266e+01</td>\n",
       "      <td>9.635510e-02</td>\n",
       "      <td>3.576873e+00</td>\n",
       "      <td>2.070356e-02</td>\n",
       "      <td>3.826712e-02</td>\n",
       "      <td>1.000000e+00</td>\n",
       "      <td>1.500000e+01</td>\n",
       "      <td>0.000000e+00</td>\n",
       "    </tr>\n",
       "    <tr>\n",
       "      <th>max</th>\n",
       "      <td>9.351672e+01</td>\n",
       "      <td>7.301161e+00</td>\n",
       "      <td>1.774189e+01</td>\n",
       "      <td>2.556893e-01</td>\n",
       "      <td>1.294088e+00</td>\n",
       "      <td>1.000491e+00</td>\n",
       "      <td>1.340000e+03</td>\n",
       "      <td>1.000000e+00</td>\n",
       "    </tr>\n",
       "  </tbody>\n",
       "</table>\n",
       "</div>"
      ],
      "text/plain": [
       "       title_proximity_tfidf  description_proximity_tfidf  main_query_tfidf  \\\n",
       "count           1.083825e+06                 1.083825e+06      1.083825e+06   \n",
       "mean            5.466174e+00                 9.854796e-02      1.878621e+00   \n",
       "std             9.435584e+00                 2.601199e-01      2.255461e+00   \n",
       "min            -2.420884e+00                -7.675544e-02      0.000000e+00   \n",
       "25%             0.000000e+00                 0.000000e+00      0.000000e+00   \n",
       "50%             0.000000e+00                 2.787808e-02      7.994508e-01   \n",
       "75%             1.039266e+01                 9.635510e-02      3.576873e+00   \n",
       "max             9.351672e+01                 7.301161e+00      1.774189e+01   \n",
       "\n",
       "       query_jl_score  query_title_score    city_match  job_age_days  \\\n",
       "count    1.083825e+06       1.083825e+06  1.083825e+06  1.083825e+06   \n",
       "mean     1.713955e-02       3.617481e-02  5.478801e-01  1.053496e+01   \n",
       "std      1.247846e-02       4.943090e-02  4.393890e-01  1.785121e+01   \n",
       "min      1.000000e-06       9.998021e-07  0.000000e+00  0.000000e+00   \n",
       "25%      1.041667e-02       1.228964e-02  0.000000e+00  2.000000e+00   \n",
       "50%      1.562500e-02       2.042031e-02  5.659572e-01  6.000000e+00   \n",
       "75%      2.070356e-02       3.826712e-02  1.000000e+00  1.500000e+01   \n",
       "max      2.556893e-01       1.294088e+00  1.000491e+00  1.340000e+03   \n",
       "\n",
       "              apply  \n",
       "count  1.083825e+06  \n",
       "mean   9.061057e-02  \n",
       "std    2.870546e-01  \n",
       "min    0.000000e+00  \n",
       "25%    0.000000e+00  \n",
       "50%    0.000000e+00  \n",
       "75%    0.000000e+00  \n",
       "max    1.000000e+00  "
      ]
     },
     "execution_count": 3,
     "metadata": {},
     "output_type": "execute_result"
    }
   ],
   "source": [
    "# start fking preprocessing\n",
    "from sklearn.experimental import enable_iterative_imputer\n",
    "from sklearn.impute import IterativeImputer\n",
    "\n",
    "# drop duplicate\n",
    "df.drop_duplicates(inplace=True)  # (len(df)=1112618, len(df[df['apply']==1])=99595), imbalanced\n",
    "\n",
    "# fill missing values by MICE instead of mean\n",
    "#df.fillna(df.mean(), inplace=True)\n",
    "x_columns = df.columns\n",
    "df = df.copy()\n",
    "df = IterativeImputer().fit_transform(df)\n",
    "df = pd.DataFrame(df, columns=x_columns)\n",
    "\n",
    "df.describe()"
   ]
  },
  {
   "cell_type": "code",
   "execution_count": 4,
   "metadata": {},
   "outputs": [
    {
     "name": "stderr",
     "output_type": "stream",
     "text": [
      "Using TensorFlow backend.\n"
     ]
    },
    {
     "data": {
      "text/html": [
       "<div>\n",
       "<style scoped>\n",
       "    .dataframe tbody tr th:only-of-type {\n",
       "        vertical-align: middle;\n",
       "    }\n",
       "\n",
       "    .dataframe tbody tr th {\n",
       "        vertical-align: top;\n",
       "    }\n",
       "\n",
       "    .dataframe thead th {\n",
       "        text-align: right;\n",
       "    }\n",
       "</style>\n",
       "<table border=\"1\" class=\"dataframe\">\n",
       "  <thead>\n",
       "    <tr style=\"text-align: right;\">\n",
       "      <th></th>\n",
       "      <th>title_proximity_tfidf</th>\n",
       "      <th>description_proximity_tfidf</th>\n",
       "      <th>main_query_tfidf</th>\n",
       "      <th>query_jl_score</th>\n",
       "      <th>query_title_score</th>\n",
       "      <th>city_match</th>\n",
       "      <th>job_age_days</th>\n",
       "    </tr>\n",
       "  </thead>\n",
       "  <tbody>\n",
       "    <tr>\n",
       "      <th>0</th>\n",
       "      <td>-0.579328</td>\n",
       "      <td>0.255671</td>\n",
       "      <td>-0.833158</td>\n",
       "      <td>-0.089076</td>\n",
       "      <td>-0.413537</td>\n",
       "      <td>-1.246978</td>\n",
       "      <td>-0.368326</td>\n",
       "    </tr>\n",
       "    <tr>\n",
       "      <th>1</th>\n",
       "      <td>-0.579328</td>\n",
       "      <td>0.326221</td>\n",
       "      <td>-0.833158</td>\n",
       "      <td>-0.064680</td>\n",
       "      <td>-0.334935</td>\n",
       "      <td>-1.246978</td>\n",
       "      <td>-0.593944</td>\n",
       "    </tr>\n",
       "    <tr>\n",
       "      <th>2</th>\n",
       "      <td>0.536029</td>\n",
       "      <td>0.994814</td>\n",
       "      <td>0.333678</td>\n",
       "      <td>-0.284022</td>\n",
       "      <td>-0.322382</td>\n",
       "      <td>-1.246978</td>\n",
       "      <td>-0.368326</td>\n",
       "    </tr>\n",
       "    <tr>\n",
       "      <th>3</th>\n",
       "      <td>-0.579328</td>\n",
       "      <td>-0.221307</td>\n",
       "      <td>2.112439</td>\n",
       "      <td>1.459150</td>\n",
       "      <td>-0.011471</td>\n",
       "      <td>-1.246978</td>\n",
       "      <td>0.646956</td>\n",
       "    </tr>\n",
       "    <tr>\n",
       "      <th>4</th>\n",
       "      <td>-0.579328</td>\n",
       "      <td>-0.378928</td>\n",
       "      <td>-0.833158</td>\n",
       "      <td>0.810768</td>\n",
       "      <td>-0.306908</td>\n",
       "      <td>-1.246978</td>\n",
       "      <td>0.477742</td>\n",
       "    </tr>\n",
       "  </tbody>\n",
       "</table>\n",
       "</div>"
      ],
      "text/plain": [
       "   title_proximity_tfidf  description_proximity_tfidf  main_query_tfidf  \\\n",
       "0              -0.579328                     0.255671         -0.833158   \n",
       "1              -0.579328                     0.326221         -0.833158   \n",
       "2               0.536029                     0.994814          0.333678   \n",
       "3              -0.579328                    -0.221307          2.112439   \n",
       "4              -0.579328                    -0.378928         -0.833158   \n",
       "\n",
       "   query_jl_score  query_title_score  city_match  job_age_days  \n",
       "0       -0.089076          -0.413537   -1.246978     -0.368326  \n",
       "1       -0.064680          -0.334935   -1.246978     -0.593944  \n",
       "2       -0.284022          -0.322382   -1.246978     -0.368326  \n",
       "3        1.459150          -0.011471   -1.246978      0.646956  \n",
       "4        0.810768          -0.306908   -1.246978      0.477742  "
      ]
     },
     "execution_count": 4,
     "metadata": {},
     "output_type": "execute_result"
    }
   ],
   "source": [
    "from sklearn.model_selection import train_test_split\n",
    "from imblearn.under_sampling import RandomUnderSampler\n",
    "from sklearn.preprocessing import StandardScaler\n",
    "\n",
    "train_x, test_x = train_test_split(df, test_size=0.2, random_state=4211)\n",
    "train_y = train_x.pop('apply')\n",
    "test_y = test_x.pop('apply')\n",
    "\n",
    "# Normalisation using the sklearn StandardScaler. Set the mean to 0 and sd to 1.\n",
    "scaler = StandardScaler()\n",
    "train_x = scaler.fit_transform(train_x)  # fit training set only\n",
    "test_x = scaler.transform(test_x)\n",
    "\n",
    "x_columns = df.drop('apply',axis=1).columns\n",
    "train_x = pd.DataFrame(train_x, columns=x_columns)\n",
    "test_x = pd.DataFrame(test_x, columns=x_columns)\n",
    "\n",
    "# undersampling to reduce imbalance\n",
    "train_x, train_y = RandomUnderSampler(random_state=0).fit_resample(train_x, train_y)\n",
    "\n",
    "train_x.head()"
   ]
  },
  {
   "cell_type": "code",
   "execution_count": 6,
   "metadata": {},
   "outputs": [],
   "source": [
    "def report(clf):\n",
    "    pred_y = clf.predict(test_x)\n",
    "\n",
    "    print(classification_report(test_y, pred_y))\n",
    "    disp = plot_confusion_matrix(clf, test_x, test_y)\n",
    "    disp.figure_.suptitle(\"Confusion Matrix\")"
   ]
  },
  {
   "cell_type": "code",
   "execution_count": 8,
   "metadata": {},
   "outputs": [
    {
     "name": "stdout",
     "output_type": "stream",
     "text": [
      "83.68337440490723\n"
     ]
    },
    {
     "name": "stderr",
     "output_type": "stream",
     "text": [
      "C:\\Users\\alanh\\Anaconda3\\lib\\site-packages\\sklearn\\svm\\_base.py:947: ConvergenceWarning: Liblinear failed to converge, increase the number of iterations.\n",
      "  \"the number of iterations.\", ConvergenceWarning)\n"
     ]
    }
   ],
   "source": [
    "clf = LinearSVC(max_iter=3000) # default max_iter=1000\n",
    "\n",
    "start = time.time()\n",
    "clf.fit(train_x, train_y)\n",
    "print(time.time()-start)"
   ]
  },
  {
   "cell_type": "code",
   "execution_count": 9,
   "metadata": {},
   "outputs": [
    {
     "name": "stdout",
     "output_type": "stream",
     "text": [
      "              precision    recall  f1-score   support\n",
      "\n",
      "         0.0       0.92      0.68      0.78    197064\n",
      "         1.0       0.12      0.43      0.18     19701\n",
      "\n",
      "    accuracy                           0.65    216765\n",
      "   macro avg       0.52      0.55      0.48    216765\n",
      "weighted avg       0.85      0.65      0.73    216765\n",
      "\n"
     ]
    },
    {
     "data": {
      "image/png": "[encoded data removed]",
      "text/plain": [
       "<Figure size 432x288 with 2 Axes>"
      ]
     },
     "metadata": {
      "needs_background": "light"
     },
     "output_type": "display_data"
    }
   ],
   "source": [
    "report(clf)"
   ]
  },
  {
   "cell_type": "code",
   "execution_count": 6,
   "metadata": {},
   "outputs": [
    {
     "name": "stdout",
     "output_type": "stream",
     "text": [
      "Fitting 5 folds for each of 5 candidates, totalling 25 fits\n"
     ]
    },
    {
     "name": "stderr",
     "output_type": "stream",
     "text": [
      "[Parallel(n_jobs=-1)]: Using backend LokyBackend with 6 concurrent workers.\n",
      "[Parallel(n_jobs=-1)]: Done  25 out of  25 | elapsed:  4.2min finished\n",
      "C:\\Users\\alanh\\Anaconda3\\lib\\site-packages\\sklearn\\svm\\_base.py:947: ConvergenceWarning: Liblinear failed to converge, increase the number of iterations.\n",
      "  \"the number of iterations.\", ConvergenceWarning)\n"
     ]
    },
    {
     "name": "stdout",
     "output_type": "stream",
     "text": [
      "              precision    recall  f1-score   support\n",
      "\n",
      "           0       0.92      0.68      0.78    197064\n",
      "           1       0.12      0.42      0.18     19701\n",
      "\n",
      "    accuracy                           0.66    216765\n",
      "   macro avg       0.52      0.55      0.48    216765\n",
      "weighted avg       0.85      0.66      0.73    216765\n",
      "\n"
     ]
    },
    {
     "data": {
      "image/png": "[encoded data removed]",
      "text/plain": [
       "<Figure size 432x288 with 2 Axes>"
      ]
     },
     "metadata": {
      "needs_background": "light"
     },
     "output_type": "display_data"
    }
   ],
   "source": [
    "from sklearn.model_selection import GridSearchCV  # this thing cpu intensive.\n",
    "tuned_parameters = {'C':np.arange(0.01,100,20)}\n",
    "\n",
    "clf = GridSearchCV(LinearSVC(), tuned_parameters, n_jobs=-1, verbose=1)\n",
    "clf.fit(train_x, train_y)\n",
    "report(clf)  # no much difference"
   ]
  },
  {
   "cell_type": "code",
   "execution_count": 7,
   "metadata": {},
   "outputs": [
    {
     "data": {
      "text/plain": [
       "LinearSVC(C=1.0, class_weight=None, dual=True, fit_intercept=True,\n",
       "          intercept_scaling=1, loss='squared_hinge', max_iter=1000,\n",
       "          multi_class='ovr', penalty='l2', random_state=None, tol=0.0001,\n",
       "          verbose=0)"
      ]
     },
     "execution_count": 7,
     "metadata": {},
     "output_type": "execute_result"
    }
   ],
   "source": [
    "clf.estimator"
   ]
  },
  {
   "cell_type": "code",
   "execution_count": null,
   "metadata": {},
   "outputs": [],
   "source": []
  },
  {
   "cell_type": "code",
   "execution_count": null,
   "metadata": {},
   "outputs": [],
   "source": []
  },
  {
   "cell_type": "code",
   "execution_count": null,
   "metadata": {},
   "outputs": [],
   "source": []
  },
  {
   "cell_type": "code",
   "execution_count": null,
   "metadata": {},
   "outputs": [],
   "source": [
    "clf = SVC()  # so fking slow even after normalisation, run for hrs still no output so I terminated this. \n",
    "            # Probably data size is too large for this, because it takes quadratic time to run (found from web).\n",
    "\n",
    "start = time.time()\n",
    "clf.fit(train_x, train_y)\n",
    "print(time.time()-start)\n",
    "\n",
    "report(clf)"
   ]
  }
 ],
 "metadata": {
  "kernelspec": {
   "display_name": "Python 3",
   "language": "python",
   "name": "python3"
  },
  "language_info": {
   "codemirror_mode": {
    "name": "ipython",
    "version": 3
   },
   "file_extension": ".py",
   "mimetype": "text/x-python",
   "name": "python",
   "nbconvert_exporter": "python",
   "pygments_lexer": "ipython3",
   "version": "3.7.6"
  }
 },
 "nbformat": 4,
 "nbformat_minor": 4
}
